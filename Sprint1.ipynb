{
 "cells": [
  {
   "cell_type": "markdown",
   "metadata": {},
   "source": [
    "# Sprint 1: Python Refresher"
   ]
  },
  {
   "cell_type": "markdown",
   "metadata": {
    "vscode": {
     "languageId": "python"
    }
   },
   "source": [
    "## Table of Contents\n",
    "\n",
    "- What i learn in sprint one:\n",
    "    - Python Type Hierachy\n",
    "    - Multi-Line Statement and Strings\n",
    "    - Variable Names\n",
    "    - Conditionals\n",
    "    - Functions\n",
    "    - While, Break, Try, Continiue\n",
    "    - For Loop\n",
    "    - Classes"
   ]
  },
  {
   "cell_type": "markdown",
   "metadata": {
    "vscode": {
     "languageId": "python"
    }
   },
   "source": [
    "## 1.Python Type Hierachy"
   ]
  },
  {
   "cell_type": "markdown",
   "metadata": {
    "vscode": {
     "languageId": "python"
    }
   },
   "source": [
    "### 1.Numbers\n",
    "Numbers in python have 2 type:\n",
    "| Integral | None-Integral    |\n",
    "|----------|------------------|\n",
    "| Integers | Float(c Doubles) |\n",
    "| Booleans | Complex          |\n",
    "|          | Decimals         | \n",
    "|          | Fractions        | "
   ]
  },
  {
   "cell_type": "markdown",
   "metadata": {},
   "source": [
    "### 2.Collections\n",
    "#### 2.1. Sequences\n",
    "| Mutable  | Immutable        |\n",
    "|----------|------------------|\n",
    "| Lists    | Tuples           |\n",
    "|          | Strings          |\n",
    "\n",
    "\n",
    "#### 2.2. Sets\n",
    "| Mutable  | Immutable        |\n",
    "|----------|------------------|\n",
    "| Sets    | Frozen Sets       |\n",
    "\n",
    "\n",
    "#### 2.3. Mappings\n",
    "Dictionarys\n"
   ]
  },
  {
   "cell_type": "markdown",
   "metadata": {
    "vscode": {
     "languageId": "python"
    }
   },
   "source": [
    "### 3.Callables\n",
    "- Callables:\n",
    "    - User-Defined Functions\n",
    "    - Generators\n",
    "    - Classes\n",
    "    - Instance Methods\n",
    "    - Class Instances(_ _ call _ _ ())\n",
    "    - Built-in Functions(len(), open())\n",
    "    - Built-in Methods(my_list.append(item))\n",
    "\n",
    "### 4.Singletons\n",
    "- Singletons:\n",
    "    - None\n",
    "    - NotImplemented\n",
    "    - Ellipsis(...)"
   ]
  },
  {
   "cell_type": "markdown",
   "metadata": {},
   "source": [
    "### Python Type Hierachy in one view\n",
    "![Python Type Hierachy](Images/Python_Type_Hierachy.png)"
   ]
  },
  {
   "cell_type": "markdown",
   "metadata": {},
   "source": [
    "## 2.Multi-Line Statements and Strings"
   ]
  },
  {
   "cell_type": "markdown",
   "metadata": {},
   "source": [
    "2.1 Python program is nothing more than some line of txt string, in python we have 2 line of code,\n",
    "physical vs logical\n",
    "There are some diffrence between **physical** vs **logical** newline of code\n",
    "\n",
    "- sometimes, physical newliens are ignored\n",
    "- combine mulltiple physical lines into a single logical line of code\n",
    "terminated by a logical **NEWLINE** token.\n",
    "- converstion between **NEWLINE** and **LOGICAL** lines can be **Implict** or **Explicit**\n",
    "- Implicit can use for:\n",
    "    - list literals []\n",
    "    - tuples lterrals ()\n",
    "    - dictionary literals {}\n",
    "    - set literals {}\n",
    "    - function arguments / parameters\n",
    "    - implicit support inline comments\n",
    "- Explicit\n",
    "    - we can break up the statement explicitly, by using \\ (backslash) character\n",
    "    - Multi-line statement are not **implicitly** converted to a single logical line of code.\n",
    "    - Multi-line string literals can be created using triple dilimeter (' sinagle , \" double)\n",
    "    - in Multi-line string everything we type is part of string line hidden character \"\\n\"\n",
    "    - multi-line strnig is not a comment they are special comments called **docstring**"
   ]
  },
  {
   "cell_type": "markdown",
   "metadata": {},
   "source": [
    "### 2.2 Practice Time"
   ]
  },
  {
   "cell_type": "code",
   "execution_count": 37,
   "metadata": {},
   "outputs": [
    {
     "data": {
      "text/plain": [
       "['sina', 'ali', 'maryam', 'mohammad']"
      ]
     },
     "execution_count": 37,
     "metadata": {},
     "output_type": "execute_result"
    }
   ],
   "source": [
    "names_list = ['sina', 'ali','maryam', 'mohammad']\n",
    "names_list"
   ]
  },
  {
   "cell_type": "code",
   "execution_count": 38,
   "metadata": {},
   "outputs": [
    {
     "data": {
      "text/plain": [
       "['sina', 'ali', 'maryam', 'mohammad']"
      ]
     },
     "execution_count": 38,
     "metadata": {},
     "output_type": "execute_result"
    }
   ],
   "source": [
    "names_list = ['sina' # this is name 1\n",
    "            , 'ali' # this is name 2\n",
    "            ,'maryam' # this is name 3\n",
    "            , 'mohammad' # this is name 4\n",
    "            ]\n",
    "names_list"
   ]
  },
  {
   "cell_type": "code",
   "execution_count": 39,
   "metadata": {},
   "outputs": [
    {
     "data": {
      "text/plain": [
       "('maryam', 'sara', 'setayesh')"
      ]
     },
     "execution_count": 39,
     "metadata": {},
     "output_type": "execute_result"
    }
   ],
   "source": [
    "names_tuples = ('maryam', 'sara', 'setayesh')\n",
    "names_tuples"
   ]
  },
  {
   "cell_type": "code",
   "execution_count": 40,
   "metadata": {},
   "outputs": [
    {
     "data": {
      "text/plain": [
       "('maryam', 'sara', 'setayesh')"
      ]
     },
     "execution_count": 40,
     "metadata": {},
     "output_type": "execute_result"
    }
   ],
   "source": [
    "names_tuples = ('maryam', #this is comment for maryam\n",
    "                'sara', #this is comment for sara\n",
    "                'setayesh' #this is comment for setayesh\n",
    "                )\n",
    "names_tuples"
   ]
  },
  {
   "cell_type": "code",
   "execution_count": 41,
   "metadata": {},
   "outputs": [
    {
     "data": {
      "text/plain": [
       "{'key1': 'item 1', 'key2': 'item2', 'key3': 'item3'}"
      ]
     },
     "execution_count": 41,
     "metadata": {},
     "output_type": "execute_result"
    }
   ],
   "source": [
    "my_dic = {'key1': \"item 1\",\n",
    "          'key2': \"item2\",\n",
    "          'key3': \"item3\"}\n",
    "my_dic"
   ]
  },
  {
   "cell_type": "code",
   "execution_count": 13,
   "metadata": {},
   "outputs": [
    {
     "data": {
      "text/plain": [
       "{'key1': 'item 1', 'key2': 'item2', 'key3': 'item3'}"
      ]
     },
     "execution_count": 13,
     "metadata": {},
     "output_type": "execute_result"
    }
   ],
   "source": [
    "my_dic = {'key1': \"item 1\",# this is key 1  \n",
    "          'key2': \"item2\", # this is key 2\n",
    "          'key3': \"item3\" # this is key 3\n",
    "          \n",
    "          }\n",
    "my_dic"
   ]
  },
  {
   "cell_type": "code",
   "execution_count": 42,
   "metadata": {},
   "outputs": [
    {
     "data": {
      "text/plain": [
       "(10, 13, 15)"
      ]
     },
     "execution_count": 42,
     "metadata": {},
     "output_type": "execute_result"
    }
   ],
   "source": [
    "# name of parameters of this function is useless and not descriptive, we can use inline comment\n",
    "def my_func(y, x, z):\n",
    "    return (x, y, z)\n",
    "    \n",
    "\n",
    "my_func(13, 10 ,15)"
   ]
  },
  {
   "cell_type": "code",
   "execution_count": 44,
   "metadata": {},
   "outputs": [
    {
     "data": {
      "text/plain": [
       "(10, 13, 15)"
      ]
     },
     "execution_count": 44,
     "metadata": {},
     "output_type": "execute_result"
    }
   ],
   "source": [
    "def my_func(y, #y is attitude of position \n",
    "            x, #x is attitude of position\n",
    "            z  #z is optional parameter for accuracy\n",
    "            ):\n",
    "    return (x, y, z)\n",
    "\n",
    "my_func(13, 10 ,15)"
   ]
  },
  {
   "cell_type": "code",
   "execution_count": 21,
   "metadata": {},
   "outputs": [
    {
     "name": "stdout",
     "output_type": "stream",
     "text": [
      "you are teenager\n"
     ]
    }
   ],
   "source": [
    "age = 23\n",
    "if age > 10 and age > 20 and age < 30:\n",
    "    print(\"you are teenager\")"
   ]
  },
  {
   "cell_type": "code",
   "execution_count": 22,
   "metadata": {},
   "outputs": [
    {
     "name": "stdout",
     "output_type": "stream",
     "text": [
      "you are teenager\n"
     ]
    }
   ],
   "source": [
    "# Using Continuation character (Backslash \\)\n",
    "age = 23\n",
    "if age > 10 \\\n",
    "    and age > 20 \\\n",
    "         and age < 30:\n",
    "    print(\"you are teenager\")"
   ]
  },
  {
   "cell_type": "code",
   "execution_count": 24,
   "metadata": {},
   "outputs": [
    {
     "data": {
      "text/plain": [
       "'Hi welcome to this python programming course\\nhere we want to lean everything about python and become hero!'"
      ]
     },
     "execution_count": 24,
     "metadata": {},
     "output_type": "execute_result"
    }
   ],
   "source": [
    "multi_line_string = \"\"\"Hi welcome to this python programming course\n",
    "here we want to lean everything about python and become hero!\"\"\"\n",
    "\n",
    "multi_line_string\n",
    "#as we can see in the output \\n after course added to string that's beacuse everything we writ\n",
    "# this way will add to string\n"
   ]
  },
  {
   "cell_type": "code",
   "execution_count": 27,
   "metadata": {},
   "outputs": [
    {
     "name": "stdout",
     "output_type": "stream",
     "text": [
      "Hi welcome to this python programming course\n",
      "                        here we want to lean everything about python\n",
      "                        and become hero!,\n",
      "                        Everything will be great if you do small steps\n"
     ]
    }
   ],
   "source": [
    "multi_line_string = \"\"\"Hi welcome to this python programming course\n",
    "                        here we want to lean everything about python\n",
    "                        and become hero!,\n",
    "                        Everything will be great if you do small steps\"\"\"\n",
    "print(multi_line_string)\n",
    "#Some times in multi-line string look good in code but not in output"
   ]
  },
  {
   "cell_type": "code",
   "execution_count": 30,
   "metadata": {},
   "outputs": [
    {
     "name": "stdout",
     "output_type": "stream",
     "text": [
      "Hi welcome to this python programming course\n",
      "    here we want to lean everything about python\n",
      "    and become hero!,\n",
      "    Everything will be great if you do small steps\n"
     ]
    }
   ],
   "source": [
    "multi_line_string = \"\"\"Hi welcome to this python programming course\n",
    "    here we want to lean everything about python\n",
    "    and become hero!,\n",
    "    Everything will be great if you do small steps\"\"\"\n",
    "print(multi_line_string)"
   ]
  },
  {
   "cell_type": "code",
   "execution_count": 33,
   "metadata": {},
   "outputs": [
    {
     "name": "stdout",
     "output_type": "stream",
     "text": [
      "this is multi-line string that wrote in function\n",
      "              and when i go to new line that is look ok in code but not good in output\n"
     ]
    }
   ],
   "source": [
    "def my_func():\n",
    "    return \"\"\"this is multi-line string that wrote in function\n",
    "              and when i go to new line that is look ok in code but not good in output\"\"\"\n",
    "\n",
    "print(my_func())"
   ]
  },
  {
   "cell_type": "code",
   "execution_count": 35,
   "metadata": {},
   "outputs": [
    {
     "name": "stdout",
     "output_type": "stream",
     "text": [
      "this is multi-line string that wrote in function\n",
      "and when i go to new line that is look ok in code but not good in output\n"
     ]
    }
   ],
   "source": [
    "def my_func():\n",
    "    return \"\"\"this is multi-line string that wrote in function\n",
    "and when i go to new line that is look ok in code but not good in output\"\"\"\n",
    "\n",
    "print(my_func())"
   ]
  },
  {
   "cell_type": "markdown",
   "metadata": {},
   "source": [
    "## 3.Variable Naming "
   ]
  },
  {
   "cell_type": "markdown",
   "metadata": {},
   "source": [
    "### 3.1 Identifier Names\n",
    "- some **important** note about identifiers\n",
    "    - identifiers names are **case sensetive**\n",
    "    - identifiers **must** follow certain rules and **should** follow certain rules\n",
    "        - **Must**\n",
    "            - 1.**Start** with **underscore** (_) or **letters** (a-z or A-Z)\n",
    "            - 2.**Followd** by any number of **underscore** (_) or letters(a-z or A-Z) or digits(0-9)\n",
    "                - 2.1 Example: var, my_var, var1, var_1\n",
    "                - 2.2 Special Cases: _ var , _ _ var _ _ , var _ is special cases which some meaning attached to them \n",
    "            - 3.**Can't be reseverd word**\n",
    "                - 3.1 Example: True, False, in, yield, Class, return, global, lambda, finnaly, try, except, break, while, for, ... \n",
    "\n",
    "            - Special Cases which have meaning in python:\n",
    "                - 1. _ my_var: if we have single _ (underscore) before our variable name, that indicate **Internal Use** or **Private** object.\n",
    "                    - 1.1: As we know everything in python is object and we don't have something private or internal use in python but we use this conversion only for indicates who read our code to understand that this variable in private and should't use somewhere else. if we write something like from mypakage import * this will not import variable that have underscore before that name.\n",
    "                - 2. _ _ my_var: if we have double _ (underscore) before our variable name, that indicate **mangle** or **mangling** **class attribute** which use in in **inharitance** and we use in object oriented very soon :)\n",
    "                - 3. _ _ my_var _ _: if we have double _ (underscore) before and after of our variable that indicated this is python magic name, **we shold't use this naming conversion becuse maybe in feture python standard change and use this name and after that our program will not work !. some usecase of this naming conversion is magic methods, absolotly there is nothing magic about them but they easy our work in programming for example if we have class and we want to compare two object of that class, we can use  _ _ lt _ _ method which say less than, after we implement this we can compare two object by arithmatic operator (-) and so, we will cover that soon.\n",
    "\n",
    "        - **Should**\n",
    "        - it's better two using standard when are writing our code, some standards that is very good to follow when writing python code is these rules:\n",
    "            - 1.**Pakages** : Name of pakages should be : 1. short 2. all-lowercase 3. no underscore\n",
    "                - 1.1 Example: utilitys, tools, matplotlib, numpy, time, and so...\n",
    "            - 2.**Modules** : Name of modules should be: 1. short 2. all-lowercaase 3.can have underscore\n",
    "                - 2.1 Example: my_utils, camera_tools, plate_detector, face_detector and so ...\n",
    "            - 3.**Classes** : Name of classes should be CapWords(upper camel case conversion)\n",
    "                - 3.1 Example: BankAccount, UserName, UserDetector, TimeUtility and so...\n",
    "                and so...\n",
    "            - 4.**Functions** : Name of functions should be 1.lowercase 2.words seperater by underscore(snake_case naming conversion)\n",
    "                - 4.1 Example: my_func, user_loging, performance_mesearure\n",
    "\n",
    "            - 5.**Variables** : Name of variables shoud be 1.lowercase 2.words seperated by undersocre(snake_case)\n",
    "                - 5.1 Example: accuracy_value, time_logger, score_average\n",
    "\n",
    "            - 6.**Constant** : Name of constants should be 1.all uppercase 2. seperated by undersocre\n",
    "                - 6.1 Example: PI_NUMBER, USER_DEFAULT_PASSWORD, HASH_CODE and so ..."
   ]
  },
  {
   "cell_type": "markdown",
   "metadata": {},
   "source": [
    "## 4.Conditionals"
   ]
  },
  {
   "cell_type": "markdown",
   "metadata": {},
   "source": [
    "### 4.1 if statment\n",
    "- If statement\n",
    "    - if statement is commonly use if we have conditions, if statement can be simple or nested\n",
    "    - also some if statment can write in one line of code which called **ternery operator** The ternary operator can be thought of as a simplified, one-line version of the if-else statement to test a condition\n",
    "    - we can use **ternery operator** this way: __X if(Condition is True) else Y__\n",
    "    - Something interesting about python:\n",
    "        - Python doesn't have a switch/case statement because of Unsatisfactory Proposals . Nobody has been able to suggest an implementation that works well with Python's syntax and established coding style."
   ]
  },
  {
   "cell_type": "markdown",
   "metadata": {},
   "source": [
    "### 4.2 Ternary Operator\n",
    "![Ternary Operator](Images/Ternery_Operator.png)"
   ]
  },
  {
   "cell_type": "markdown",
   "metadata": {},
   "source": [
    "### 4.3 Practice Time"
   ]
  },
  {
   "cell_type": "code",
   "execution_count": 45,
   "metadata": {},
   "outputs": [
    {
     "name": "stdout",
     "output_type": "stream",
     "text": [
      "your age is gratter than 10\n"
     ]
    }
   ],
   "source": [
    "my_age = 23\n",
    "if my_age < 10:\n",
    "    print('your age is less than 10')\n",
    "else:\n",
    "    print('your age is gratter than 10')"
   ]
  },
  {
   "cell_type": "code",
   "execution_count": 46,
   "metadata": {},
   "outputs": [
    {
     "name": "stdout",
     "output_type": "stream",
     "text": [
      "your age is between 24 and 20\n"
     ]
    }
   ],
   "source": [
    "my_age = 23\n",
    "if my_age < 10:\n",
    "    print(\"your age is less than 10\")\n",
    "elif(my_age > 30):\n",
    "    print(\"your'r age is gratter than 30!\")\n",
    "elif(my_age < 24 and my_age > 20):\n",
    "    print(\"your age is between 24 and 20\")"
   ]
  },
  {
   "cell_type": "code",
   "execution_count": 52,
   "metadata": {},
   "outputs": [
    {
     "name": "stdout",
     "output_type": "stream",
     "text": [
      "your age is gratter than 10\n"
     ]
    }
   ],
   "source": [
    "age = 20\n",
    "if age > 10:\n",
    "    print(\"your age is gratter than 10\")\n",
    "else:\n",
    "    print(\"your age is less than 10\")\n"
   ]
  },
  {
   "cell_type": "code",
   "execution_count": 53,
   "metadata": {},
   "outputs": [
    {
     "data": {
      "text/plain": [
       "'your age is gratter than 10'"
      ]
     },
     "execution_count": 53,
     "metadata": {},
     "output_type": "execute_result"
    }
   ],
   "source": [
    "# This is a ternary operator, inline way of writing else and if statement in oneline\n",
    "\"your age is gratter than 10\" if(age > 10) else \"you'r age is less than 10\""
   ]
  },
  {
   "cell_type": "code",
   "execution_count": 61,
   "metadata": {},
   "outputs": [
    {
     "data": {
      "text/plain": [
       "'close door'"
      ]
     },
     "execution_count": 61,
     "metadata": {},
     "output_type": "execute_result"
    }
   ],
   "source": [
    "is_door_open = False\n",
    "'open door' if(is_door_open) else 'close door'"
   ]
  },
  {
   "cell_type": "code",
   "execution_count": 70,
   "metadata": {},
   "outputs": [
    {
     "name": "stdout",
     "output_type": "stream",
     "text": [
      "even\n"
     ]
    }
   ],
   "source": [
    "def even_odd(number):\n",
    "    if number % 2 == 0:\n",
    "        print('even')\n",
    "    else:\n",
    "        print('odd')    \n",
    "\n",
    "#Rewrite the even odd function with ternary operator\n",
    "def even_odd_ternery(number):\n",
    "    output = 'even' if number % 2 == 0 else 'odd'\n",
    "    print(output)\n",
    "\n",
    "even_odd_ternery(10)"
   ]
  },
  {
   "cell_type": "markdown",
   "metadata": {},
   "source": [
    "## 5.Functions"
   ]
  },
  {
   "cell_type": "markdown",
   "metadata": {},
   "source": [
    " - 5.1 Intro: functions is just a lable that assigned to some part of our code\n",
    "    - we have 4 diffrent type of functions in python\n",
    "        - 1.User Defiend Functions\n",
    "            - 1.1 Example: my_func()\n",
    "        - 2.Build in Functions\n",
    "            - 2.1 Example: len(), range(), print(), ord(), pow(), ...\n",
    "        - 3.Lambda Functions\n",
    "            - 3.1 Example: square = lambda x : x * * 2\n",
    "        - 4.Recursion Functions\n",
    "    - we can also add some type hit to our function inputs, int, str, ... we cover that in more detail in feture\n",
    "    - when python interpreter want's to run the code it didn't go through the function code before it run, python just when see inside the function code that it will be run \n",
    " "
   ]
  },
  {
   "cell_type": "code",
   "execution_count": 77,
   "metadata": {},
   "outputs": [
    {
     "data": {
      "text/plain": [
       "'sinasina'"
      ]
     },
     "execution_count": 77,
     "metadata": {},
     "output_type": "execute_result"
    }
   ],
   "source": [
    "def my_func(x: int, y: int):\n",
    "    return x * y\n",
    "my_func(2, 'sina')"
   ]
  },
  {
   "cell_type": "code",
   "execution_count": 82,
   "metadata": {},
   "outputs": [
    {
     "data": {
      "text/plain": [
       "10.0"
      ]
     },
     "execution_count": 82,
     "metadata": {},
     "output_type": "execute_result"
    }
   ],
   "source": [
    "# lambda function\n",
    "from math import sqrt \n",
    "root = lambda x:sqrt(x)\n",
    "root(16)\n",
    "# we can also assign functions to variable, because everything in python is object and we just \n",
    "# need to refrence to that object\n",
    "\n",
    "new_func = root\n",
    "new_func(100)"
   ]
  },
  {
   "cell_type": "code",
   "execution_count": 89,
   "metadata": {},
   "outputs": [
    {
     "name": "stdout",
     "output_type": "stream",
     "text": [
      "running func 1\n",
      "running func 2\n"
     ]
    }
   ],
   "source": [
    "def func_1():\n",
    "    print(\"running func 1\")\n",
    "\n",
    "def func_2():\n",
    "    print(\"running func 2\")\n",
    "\n",
    "def func_3():\n",
    "    print(\"runinng func 3\")\n",
    "\n",
    "def func_4():\n",
    "    func_1()\n",
    "    func_2()\n",
    "func_4()\n",
    "\n",
    "# if we defined a new function which call another function that not exist we don't get error messgae\n",
    "# because python interpreter don't see insde the code at first.\n",
    "def func_5():\n",
    "    # we don't have func_19 but we don't get error message\n",
    "    func_19()"
   ]
  },
  {
   "cell_type": "markdown",
   "metadata": {},
   "source": [
    "## 6.While Loop"
   ]
  },
  {
   "cell_type": "markdown",
   "metadata": {},
   "source": [
    "- 6.1 while loop is one way of using loop in python\n",
    "- while loop can come with else clouse, which means when while loop end correctly else clouse will run otherwrite it pass the elese clous."
   ]
  },
  {
   "cell_type": "code",
   "execution_count": 92,
   "metadata": {},
   "outputs": [
    {
     "name": "stdout",
     "output_type": "stream",
     "text": [
      "1\n",
      "2\n",
      "3\n",
      "4\n",
      "5\n",
      "6\n",
      "7\n",
      "8\n",
      "9\n"
     ]
    }
   ],
   "source": [
    "a = 1\n",
    "while a < 10:\n",
    "    print(a)\n",
    "    a+=1"
   ]
  },
  {
   "cell_type": "code",
   "execution_count": 98,
   "metadata": {},
   "outputs": [
    {
     "name": "stdout",
     "output_type": "stream",
     "text": [
      "your number is in list, rejected :(\n"
     ]
    },
    {
     "data": {
      "text/plain": [
       "[1, 2, 3, 4, 6, 7]"
      ]
     },
     "execution_count": 98,
     "metadata": {},
     "output_type": "execute_result"
    }
   ],
   "source": [
    "my_list = [1, 2, 3, 4, 6, 7]\n",
    "value = int(input(\"enter your number: \"))\n",
    "index = 0\n",
    "while index < len(my_list):\n",
    "    if my_list[index] == value:\n",
    "        print('your number is in list, rejected :(')\n",
    "        break\n",
    "    index += 1\n",
    "else:\n",
    "    print('number added to list seucessfully :)')\n",
    "    my_list.append(value)\n",
    "\n",
    "my_list"
   ]
  },
  {
   "cell_type": "markdown",
   "metadata": {},
   "source": [
    "## 7.Break, Continue and the Try Statement"
   ]
  },
  {
   "cell_type": "markdown",
   "metadata": {},
   "source": [
    "- 7.1 Break, Continue and the Try Statement\n",
    "    - try except will use when we want to catch e error;\n",
    "    - continue will be used when we want to escape all the code after it\n",
    "    - finnaly will be run what ever happened to code"
   ]
  },
  {
   "cell_type": "code",
   "execution_count": 151,
   "metadata": {},
   "outputs": [
    {
     "name": "stdout",
     "output_type": "stream",
     "text": [
      "|-------------------------|\n",
      "|Zero Divition Error Founs|\n",
      "|-------------------------|\n",
      "1\n",
      "3\n",
      "5\n",
      "7\n",
      "9\n"
     ]
    }
   ],
   "source": [
    "for i in range(10):\n",
    "    try :\n",
    "        c = 10 / i\n",
    "        if i % 2 == 0:\n",
    "            continue\n",
    "            print(\"this code will nevew run because it's after continue statement\")\n",
    "        print(i)\n",
    "    except: \n",
    "        print('|-------------------------|')\n",
    "        print('|Zero Divition Error Founs|')\n",
    "        print('|-------------------------|')"
   ]
  },
  {
   "cell_type": "markdown",
   "metadata": {},
   "source": [
    "## 8.Classes"
   ]
  },
  {
   "cell_type": "markdown",
   "metadata": {},
   "source": [
    "- 8.1 Classes in Python\n",
    "    - Classes are abstract of object, we define them to be map of our object creation process\n",
    "    - define classes with **class** keyword\n",
    "    - when python interpreter want to create a class after creating an object from class it run a method called **initializer** we should define this method for setting and getting value to our object when creation process, we do this by  _ _ init _ _  method  \n",
    "    - it's common to set the first argument on init method to **self**, there is nothing special about self keyword we can call it anything we want but, it's common to use self keyword as other programmer read our code know this is pointing to object of same class\n",
    "    - each class can zero to more methods that we want to call, for example car class can have open door method, get_fuel method and so...\n",
    "    - **Magic Methods**\n",
    "        - nothing special about them!, but people called them special methods, we use this methods or creating ourself for specefic task about object of class for example if we have rectangle object and we want to use __str()__ method to get string name of object if we set object directly to this method we get memory address representation of object, but we can use  __str__(self) to get object str by correct name\n",
    "        - **List of Some Special Methods**\n",
    "            - 1.**_ _ str _ _ (self)\n",
    "                - 1.1 This method return string representation of object\n",
    "            - 2._ _ repr_ _(self)\n",
    "                - 2.1 if we call a list name we get list items in output but if we call the rectangle object we get memory address representation of that object so we should define this method to get correct name of object when we call it in terminal or in print function\n",
    "            - 3._ _ eq _ _ (self, other)\n",
    "                -3.1 if we want to compare quality of two object of our own class we use this method\n",
    "            - 4._ _ lt _ _ (self)\n",
    "                -4.1 if we want to say object 1 is less than to object 2 we use this method, and if we create lessthan method we can also use grater than method without define it, we have other method which name is greater than or qual/less than equal which we can use it.\n",
    "           - 5.Dunder\n",
    "                - 5.1 double underscore before and after of magic methods called **dunder** mean double undersocre\n",
    "    - **Setter and Getter in Python**\n",
    "        - Sometimes we want to add some constraint to adding value to our object attribut for example if we want to set width and height of rectangle we should limit the input to negative values in this case we use a **Decorator which called, @property for geting value and @property_name + . + setter to set value**\n",
    "    - as i say before when we have _ before a variable name it is private for readers of code, so in case of using getting and setter in our code it's best practice to private the variable in initializaer method and using getter and setter to access to variable.\n",
    "\n",
    "\n",
    "\n",
    "\n",
    "\n"
   ]
  },
  {
   "cell_type": "markdown",
   "metadata": {},
   "source": [
    "### 8.2 Practice time"
   ]
  },
  {
   "cell_type": "code",
   "execution_count": 7,
   "metadata": {},
   "outputs": [],
   "source": [
    "class Rectangle:\n",
    "    def __init__(self, width, height) :\n",
    "     self.width = width\n",
    "     self.height = height\n",
    "\n",
    "\n",
    "    @property\n",
    "    def width(self):\n",
    "        return self._width\n",
    "\n",
    "    @property\n",
    "    def height(self):\n",
    "        return self.height\n",
    "\n",
    "    @width.setter\n",
    "    def width(self, width):\n",
    "        if width <= 0:\n",
    "            raise ValueError(\"Width can not be negative!\")\n",
    "        else:\n",
    "            self._width = width\n",
    "\n",
    "    @height.setter\n",
    "    def height(self, height):\n",
    "        if height <= 0:\n",
    "            raise ValueError(\"Height can not be negative!\")\n",
    "        else:\n",
    "            self._height = height"
   ]
  },
  {
   "cell_type": "code",
   "execution_count": 9,
   "metadata": {},
   "outputs": [
    {
     "data": {
      "text/plain": [
       "<__main__.Rectangle at 0x28405e962d0>"
      ]
     },
     "execution_count": 9,
     "metadata": {},
     "output_type": "execute_result"
    }
   ],
   "source": [
    "my_rec = Rectangle(10, 100)\n",
    "my_rec"
   ]
  },
  {
   "cell_type": "code",
   "execution_count": 5,
   "metadata": {},
   "outputs": [],
   "source": [
    "class Rectangle:\n",
    "    def __init__(self, width, height) :\n",
    "     self.width = width\n",
    "     self.height = height\n",
    "\n",
    "    @property\n",
    "    def width(self):\n",
    "        return self._width\n",
    "    @property\n",
    "    def height(self):\n",
    "        return self._height\n",
    "    @width.setter\n",
    "    def width(self, width):\n",
    "        if width <= 0:\n",
    "            raise ValueError(\"Width can not be negative!\")\n",
    "        else:\n",
    "            self._width = width\n",
    "    @height.setter\n",
    "    def height(self, height):\n",
    "        if height <= 0:\n",
    "            raise ValueError(\"Height can not be negative!\")\n",
    "        else:\n",
    "            self._height = height\n",
    "\n",
    "            \n",
    "    def __str__(self) -> str:\n",
    "        return f'width: {self.width}, height:{self.height}'\n",
    "\n",
    "    def __repr__(self) -> str:\n",
    "        return f'width: {self.width}, height:{self.height}'\n",
    "\n",
    "    def __eq__(self, other) -> bool:\n",
    "        if isinstance(other, Rectangle):\n",
    "            return self.width == other.width and self.height == other.height\n",
    "        else:\n",
    "            return False\n",
    "\n",
    "\n"
   ]
  },
  {
   "cell_type": "code",
   "execution_count": 6,
   "metadata": {},
   "outputs": [],
   "source": [
    "my_rec = Rectangle(10, 100)\n",
    "my_rec2 = Rectangle(10, 100)"
   ]
  },
  {
   "cell_type": "code",
   "execution_count": 3,
   "metadata": {},
   "outputs": [
    {
     "data": {
      "text/plain": [
       "'width: 10, height:100'"
      ]
     },
     "execution_count": 3,
     "metadata": {},
     "output_type": "execute_result"
    }
   ],
   "source": [
    "str(my_rec)"
   ]
  },
  {
   "cell_type": "code",
   "execution_count": 8,
   "metadata": {},
   "outputs": [
    {
     "data": {
      "text/plain": [
       "True"
      ]
     },
     "execution_count": 8,
     "metadata": {},
     "output_type": "execute_result"
    }
   ],
   "source": [
    "my_rec == my_rec2"
   ]
  }
 ],
 "metadata": {
  "kernelspec": {
   "display_name": "Python 3.11.0 64-bit",
   "language": "python",
   "name": "python3"
  },
  "language_info": {
   "codemirror_mode": {
    "name": "ipython",
    "version": 3
   },
   "file_extension": ".py",
   "mimetype": "text/x-python",
   "name": "python",
   "nbconvert_exporter": "python",
   "pygments_lexer": "ipython3",
   "version": "3.11.0"
  },
  "orig_nbformat": 4,
  "vscode": {
   "interpreter": {
    "hash": "bd161129b6af5c47aa9649c3f10708f92b027739db98459ba2a687a45468a932"
   }
  }
 },
 "nbformat": 4,
 "nbformat_minor": 2
}
