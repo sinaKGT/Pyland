{
 "cells": [
  {
   "cell_type": "markdown",
   "metadata": {},
   "source": [
    "# Sprint 1: Python Refresher"
   ]
  },
  {
   "cell_type": "markdown",
   "metadata": {
    "vscode": {
     "languageId": "python"
    }
   },
   "source": [
    "## Table of Contents\n",
    "\n",
    "- What i learn in sprint one:\n",
    "    - Python Type Hierachy\n",
    "    - Multi-Line Statement and Strings\n",
    "    - Variable Names\n",
    "    - Conditionals\n",
    "    - Functions\n",
    "    - While, Break, Try, Continiue\n",
    "    - For Loop\n",
    "    - Classes"
   ]
  },
  {
   "cell_type": "markdown",
   "metadata": {
    "vscode": {
     "languageId": "python"
    }
   },
   "source": [
    "## 1.Python Type Hierachy"
   ]
  },
  {
   "cell_type": "markdown",
   "metadata": {
    "vscode": {
     "languageId": "python"
    }
   },
   "source": [
    "### 1.Numbers\n",
    "Numbers in python have 2 type:\n",
    "| Integral | None-Integral    |\n",
    "|----------|------------------|\n",
    "| Integers | Float(c Doubles) |\n",
    "| Booleans | Complex          |\n",
    "|          | Decimals         | \n",
    "|          | Fractions        | "
   ]
  },
  {
   "cell_type": "markdown",
   "metadata": {},
   "source": [
    "### 2.Collections\n",
    "#### 2.1. Sequences\n",
    "| Mutable  | Immutable        |\n",
    "|----------|------------------|\n",
    "| Lists    | Tuples           |\n",
    "|          | Strings          |\n",
    "\n",
    "\n",
    "#### 2.2. Sets\n",
    "| Mutable  | Immutable        |\n",
    "|----------|------------------|\n",
    "| Sets    | Frozen Sets       |\n",
    "\n",
    "\n",
    "#### 2.3. Mappings\n",
    "Dictionarys\n"
   ]
  },
  {
   "cell_type": "markdown",
   "metadata": {
    "vscode": {
     "languageId": "python"
    }
   },
   "source": [
    "### 3.Callables\n",
    "- Callables:\n",
    "    - User-Defined Functions\n",
    "    - Generators\n",
    "    - Classes\n",
    "    - Instance Methods\n",
    "    - Class Instances(_ _ call _ _ ())\\\n",
    "    - Built-in Functions(len(), open())\n",
    "    - Built-in Methods(my_list.append(item))\n",
    "\n",
    "### 4.Singletons\n",
    "- Singletons:\n",
    "    - None\n",
    "    - NotImplemented\n",
    "    - Ellipsis(...)"
   ]
  },
  {
   "cell_type": "markdown",
   "metadata": {},
   "source": [
    "### Python Type Hierachy in one view\n",
    "![Python Type Hierachy](Images/Python_Type_Hierachy.png)"
   ]
  },
  {
   "cell_type": "markdown",
   "metadata": {},
   "source": [
    "## 2.Multi-Line Statements and Strings"
   ]
  },
  {
   "cell_type": "markdown",
   "metadata": {},
   "source": [
    "Python program is nothing more than some line of txt string, in python we have 2 line of code,\n",
    "physical vs logical\n",
    "There are some diffrence between **physical** vs **logical** newline of code\n",
    "\n",
    "- sometimes, physical newliens are ignored\n",
    "- combine mulltiple physical lines into a single logical line of code\n",
    "terminated by a logical **NEWLINE** token."
   ]
  }
 ],
 "metadata": {
  "kernelspec": {
   "display_name": "Python 3.11.0 64-bit",
   "language": "python",
   "name": "python3"
  },
  "language_info": {
   "codemirror_mode": {
    "name": "ipython",
    "version": 3
   },
   "file_extension": ".py",
   "mimetype": "text/x-python",
   "name": "python",
   "nbconvert_exporter": "python",
   "pygments_lexer": "ipython3",
   "version": "3.11.0"
  },
  "orig_nbformat": 4,
  "vscode": {
   "interpreter": {
    "hash": "bd161129b6af5c47aa9649c3f10708f92b027739db98459ba2a687a45468a932"
   }
  }
 },
 "nbformat": 4,
 "nbformat_minor": 2
}
