{
 "cells": [
  {
   "cell_type": "markdown",
   "metadata": {},
   "source": [
    "# Part 1: Python Quick Refresher\n"
   ]
  },
  {
   "cell_type": "markdown",
   "metadata": {},
   "source": [
    "## Part1.2: What we learn in this section\n",
    "1. Python type hierarchy\n",
    "\n",
    "2. variables\n",
    "   \n",
    "    2.1 variable and memory\n",
    "    \n",
    "    2.2 python memory management\n",
    "\n",
    "        2.2.1 reference counting\n",
    "        \n",
    "        2.2.2 garbage collection\n",
    "        \n",
    "    2.3 mutability\n",
    "        2.3.1 function arguments\n",
    "        2.3.2 shared references\n",
    "\n",
    "    2.4 equality of two object\n",
    "\n",
    "    2.5 python memory optimizations\n",
    "        2.5.1. interning\n",
    "        2.5.2 peephole\n",
    "\n",
    "    2.6 numeric types\n",
    "\n",
    "        2.6.1 integers\n",
    "\n",
    "        2.6.2 rational\n",
    "\n",
    "        2.6.3 floats\n",
    "            2.6.3.1 binary representations\n",
    "            2.6.3.2 exactness\n",
    "            2.6.3.3 rounding\n",
    "            2.6.3.4 equality\n",
    "            2.6.3.5 measure of closeness\n",
    "            2.6.3.5 approximate equality\n",
    "\n",
    "        2.6.4 decimals\n",
    "            2.6.4.1 exactness\n",
    "            2.6.4.2 precision\n",
    "            2.6.4.3 rounding\n",
    "\n",
    "        2.6.5 complex numbers\n",
    "            2.6.5.1 cmath library\n",
    "\n",
    "        2.6.6 Booleans\n",
    "            2.6.6.1 associated truth values\n",
    "\n",
    "            2.6.6.2 precedence and short-circuring\n",
    "            \n",
    "            2.6.6.3 Boolean operators\n",
    "\n",
    "            2.6.6.4 comparison operator\n",
    "                2.6.6.4.1 identity\n",
    "                2.6.6.4.2 value equalities\n",
    "                2.6.6.4.3 ordering\n",
    "\n",
    "3. conditions\n",
    "\n",
    "4. functions\n",
    "    4.1 high order functions\n",
    "\n",
    "    4.2 docstring and annotations\n",
    "\n",
    "    4.3 lambdas\n",
    "    \n",
    "    4.4 introspenction\n",
    "\n",
    "    4.5 functional programming\n",
    "\n",
    "        4.5.1 map, filter, zip\n",
    "\n",
    "        4.5.2 reducing functions\n",
    "\n",
    "        4.5.3 partial functions\n",
    "\n",
    "\n",
    "    4.6 arguments\n",
    "    \n",
    "        4.6.1 positional arguments\n",
    "\n",
    "        4.6.2 keyword-only arguments\n",
    "\n",
    "        4.6.3 default values\n",
    "\n",
    "            4.6.3.1 caveats\n",
    "\n",
    "        4.6.4 packing and unpacking\n",
    "\n",
    "        4.6.5 variable positional arguments\n",
    "\n",
    "        4.6.6 variable keywork-only arguments\n",
    "\n",
    "    4.7 scopes and closures\n",
    "\n",
    "        4.7.1 global and local scopes\n",
    "\n",
    "        4.7.2 nested scopes\n",
    "\n",
    "        4.7.3 closures\n",
    "\n",
    "        4.7.4 nested closures\n",
    "\n",
    "    4.8 decorators\n",
    "\n",
    "        4.8.1 decorators\n",
    "\n",
    "        4.8.2 nested decorators\n",
    "\n",
    "        4.8.3 parameterized decorators\n",
    "\n",
    "        4.8.4 stacked decorators\n",
    "\n",
    "        4.8.5 class decorators\n",
    "\n",
    "        4.8.6 applications\n",
    "\n",
    "            4.8.6.1 memoizations\n",
    "\n",
    "            4.8.6.2 single dispatch\n",
    "\n",
    "            4.8.6.3 logging\n",
    "\n",
    "            4.8.6.4 timing\n",
    "\n",
    "    4.9 tuples as data structures\n",
    "\n",
    "        4.9.1 packing and unpacking\n",
    "\n",
    "        4.9.2 named tuples\n",
    "\n",
    "        4.9.3 augmenting named tuples\n",
    "\n",
    "    4.10 modules, packages and namespaces\n",
    "\n",
    "        4.10.1 what is modules?\n",
    "\n",
    "        4.10.2 what are packages?\n",
    "\n",
    "        4.10.3 how do the various imports works?\n",
    "\n",
    "        4.10.4 how to manipulate namespaces using packages\n",
    "\n",
    "        4.10.5 zip archives\n",
    "\n",
    "        4.10.6 __main__\n",
    "\n",
    "    4.11 extras\n",
    "\n",
    "        4.11.1 important new features of python 3.9 and later\n",
    "\n",
    "        4.11.2 best practices\n",
    "\n",
    "        4.11.3 random collection of interesting stuff\n",
    "\n",
    "        4.11.4 addition resources\n",
    "\n",
    "\n",
    "5. loops\n",
    "   \n",
    "6. break, continue and try\n",
    "   \n",
    "7. class"
   ]
  },
  {
   "cell_type": "markdown",
   "metadata": {},
   "source": [
    "### part 1.2.1: Python type hierachy"
   ]
  },
  {
   "cell_type": "markdown",
   "metadata": {},
   "source": [
    "### Numbers\n",
    "| Integral |   Non-Integral   |\n",
    "|:--------:|:----------------:|\n",
    "| Integers | Floats(C doubles |\n",
    "| Booleans |      Complex     |\n",
    "|          |     Decimals     |\n",
    "|          |     Fractions    |\n",
    "\n",
    "### Collections\n",
    "| Mutable | Immutable |\n",
    "|:-------:|:---------:|\n",
    "|  Lists  |   Tuples  |\n",
    "|         |  Strings  |\n",
    "\n",
    "### Callables and Singletons\n",
    "|                 Callables                |   Singletons   |\n",
    "|:----------------------------------------:|:--------------:|\n",
    "| User-Defined Functions                   |      None      |\n",
    "| Generators                               | NotImplemented |\n",
    "| Classes                                  |  Ellipsis(...) |\n",
    "| Instance Methods                         |                |\n",
    "| Class Instances(_ _ call_ _())           |                |\n",
    "| Built-in Functions(e.g. len(), open())   |                |\n",
    "| Built-in Methods(e.g. my_list.append(x)) |                |"
   ]
  },
  {
   "cell_type": "markdown",
   "metadata": {},
   "source": [
    "### MULTI-LINE STATEMENT AND STRINGS\n",
    "\n",
    "*when we write python code  we have two types of lines*:  **1.Logical python code** and **2.physical line of code**\n",
    "\n",
    "physical lines of code end with **new line character(\\n)** and logical lines of code end with **NEWLINE** tokens\n",
    "\n",
    "sometimes, physical newlines are ignored in order to combine multiple physical lines into a single logical line of code which terminated by a logical NEWLINE token.\n",
    "\n",
    "This conversion cna be **Implicit** or **Explicit** which means we can use the statement in multiply line with or without saying about newline\n",
    "\n",
    "(in implicit we don't need to say about new line and can use the expression in multiple lines but in explicit we should use continuation character(\\) to indicate that we continua the code in new line).\n",
    "\n",
    "|          **Implicit**          |\n",
    "|:------------------------------:|\n",
    "| list literals:[]               |\n",
    "| tuple literals:()              |\n",
    "| dictionary literals:{}         |\n",
    "| set literals:{}                |\n",
    "| function arguments/ parameters |\n",
    "| support inline comments        |\n",
    "\n",
    "\n",
    "\n",
    "**Explicit**\n",
    "\n",
    "we can break the statements over multiple lines explicitly by using **\\** (backslash character) multi-line statement are not implicitly converted to single logical line.\n",
    "\n",
    "**Multi-line statement**\n",
    "\n",
    "multi-line statement can be created using triple delimiters(' single or \" double)\n",
    "\n",
    "a multi-line strings are not comments, although they can be used as such especially with special comments called **doc-strings**\n"
   ]
  },
  {
   "cell_type": "markdown",
   "metadata": {},
   "source": [
    "### Practice Time"
   ]
  },
  {
   "cell_type": "markdown",
   "metadata": {},
   "source": [
    "#### implicit conversion"
   ]
  },
  {
   "cell_type": "code",
   "execution_count": 9,
   "metadata": {},
   "outputs": [
    {
     "data": {
      "text/plain": [
       "['sina', 'ali', 'hasan']"
      ]
     },
     "execution_count": 9,
     "metadata": {},
     "output_type": "execute_result"
    }
   ],
   "source": [
    "names = ['sina','ali', 'hasan']\n",
    "names"
   ]
  },
  {
   "cell_type": "code",
   "execution_count": 2,
   "metadata": {},
   "outputs": [
    {
     "data": {
      "text/plain": [
       "['sina', 'ali', 'hasan']"
      ]
     },
     "execution_count": 2,
     "metadata": {},
     "output_type": "execute_result"
    }
   ],
   "source": [
    "names = ['sina',\n",
    "'ali',\n",
    "'hasan']\n",
    "names"
   ]
  },
  {
   "cell_type": "code",
   "execution_count": 3,
   "metadata": {},
   "outputs": [
    {
     "data": {
      "text/plain": [
       "['sina', 'ali', 'hasan']"
      ]
     },
     "execution_count": 3,
     "metadata": {},
     "output_type": "execute_result"
    }
   ],
   "source": [
    "names = ['sina', #this is name one\n",
    "'ali', #this is name two\n",
    "'hasan' #this is name three\n",
    "]\n",
    "names"
   ]
  },
  {
   "cell_type": "code",
   "execution_count": 4,
   "metadata": {},
   "outputs": [
    {
     "data": {
      "text/plain": [
       "(1, 2, 3, 4, 5, 6)"
      ]
     },
     "execution_count": 4,
     "metadata": {},
     "output_type": "execute_result"
    }
   ],
   "source": [
    "my_tuple = (1, 2, 3, 4, 5, 6)\n",
    "my_tuple"
   ]
  },
  {
   "cell_type": "code",
   "execution_count": 5,
   "metadata": {},
   "outputs": [
    {
     "data": {
      "text/plain": [
       "(1, 2, 3, 4, 5, 6)"
      ]
     },
     "execution_count": 5,
     "metadata": {},
     "output_type": "execute_result"
    }
   ],
   "source": [
    "my_tuple = (1, # item 1\n",
    "2, #item 2\n",
    "3,#item 3\n",
    "4,#item 4\n",
    "5, #item 5\n",
    "6 #item 6\n",
    ")\n",
    "my_tuple"
   ]
  },
  {
   "cell_type": "code",
   "execution_count": 6,
   "metadata": {},
   "outputs": [
    {
     "name": "stdout",
     "output_type": "stream",
     "text": [
      "1 3 4 5\n"
     ]
    }
   ],
   "source": [
    "def my_func(a, #this is parameter one\n",
    " b, #this is parameter two\n",
    " c, #this is parameter three\n",
    " d #this is parameter four\n",
    " ):\n",
    "    print(a ,b, c, d)\n",
    "my_func(1, 3, 4 ,5)"
   ]
  },
  {
   "cell_type": "code",
   "execution_count": 19,
   "metadata": {},
   "outputs": [
    {
     "name": "stdout",
     "output_type": "stream",
     "text": [
      "1 3 4 5\n"
     ]
    }
   ],
   "source": [
    "def my_func(a, #this is parameter one\n",
    "            b, #this is parameter two\n",
    "            c, #this is parameter three\n",
    "            d #this is parameter four\n",
    "            ):\n",
    "    print(a ,b, c, d)\n",
    "my_func(1, 3, 4 ,5)"
   ]
  },
  {
   "cell_type": "code",
   "execution_count": 26,
   "metadata": {},
   "outputs": [
    {
     "name": "stdout",
     "output_type": "stream",
     "text": [
      "1 3 4 5\n",
      "1 2 3 4\n"
     ]
    }
   ],
   "source": [
    "# comments can be before or after the comments but we should aware of end parenthesis\n",
    "def my_func(a #this is parameter one\n",
    " ,b #this is parameter two\n",
    " ,c #this is parameter three\n",
    " ,d #this is parameter four\n",
    " ):\n",
    "    print(a ,b, c, d)\n",
    "my_func(1, 3, 4 ,5)\n",
    "my_func(1 #comment\n",
    "    ,2 #comments\n",
    "    ,3 #comments\n",
    "    ,4 #comments\n",
    "    )"
   ]
  },
  {
   "cell_type": "code",
   "execution_count": 28,
   "metadata": {},
   "outputs": [
    {
     "data": {
      "text/plain": [
       "{'key1': 1, 'key2': 2, 'key3': 3}"
      ]
     },
     "execution_count": 28,
     "metadata": {},
     "output_type": "execute_result"
    }
   ],
   "source": [
    "my_dic = {'key1':1 #value for key 1 is 1\n",
    "        ,'key2':2 #value for key 2 is 2\n",
    "        ,'key3':3 #value for key 3 is 3\n",
    "        }\n",
    "my_dic"
   ]
  },
  {
   "cell_type": "markdown",
   "metadata": {},
   "source": [
    "#### Explicit"
   ]
  },
  {
   "cell_type": "code",
   "execution_count": 40,
   "metadata": {},
   "outputs": [],
   "source": [
    "a = 15\n",
    "b = 10\n",
    "c = 5"
   ]
  },
  {
   "cell_type": "code",
   "execution_count": 41,
   "metadata": {},
   "outputs": [
    {
     "name": "stdout",
     "output_type": "stream",
     "text": [
      "True\n"
     ]
    }
   ],
   "source": [
    "if a > b and b > c:\n",
    "    print(\"True\")\n",
    "    "
   ]
  },
  {
   "cell_type": "code",
   "execution_count": 42,
   "metadata": {},
   "outputs": [
    {
     "name": "stdout",
     "output_type": "stream",
     "text": [
      "True\n"
     ]
    }
   ],
   "source": [
    "if a > b \\\n",
    "and b > c:\n",
    "    print(\"True\")"
   ]
  },
  {
   "cell_type": "code",
   "execution_count": 43,
   "metadata": {},
   "outputs": [
    {
     "name": "stdout",
     "output_type": "stream",
     "text": [
      "True\n"
     ]
    }
   ],
   "source": [
    "if a > b and \\\n",
    "    b > c:\n",
    "        print(\"True\")"
   ]
  },
  {
   "cell_type": "code",
   "execution_count": 46,
   "metadata": {},
   "outputs": [
    {
     "name": "stdout",
     "output_type": "stream",
     "text": [
      "True\n"
     ]
    }
   ],
   "source": [
    "# Comments are not allowed in this statement\n",
    "if a > b \\\n",
    "     and b > c \\\n",
    "        and c < a:\n",
    "            print(\"True\")\n",
    "\n"
   ]
  },
  {
   "cell_type": "markdown",
   "metadata": {},
   "source": [
    "#### Multi-line Strings"
   ]
  },
  {
   "cell_type": "code",
   "execution_count": 49,
   "metadata": {},
   "outputs": [
    {
     "data": {
      "text/plain": [
       "'Hi welcome to programming course'"
      ]
     },
     "execution_count": 49,
     "metadata": {},
     "output_type": "execute_result"
    }
   ],
   "source": [
    "text = \"Hi welcome to programming course\"\n",
    "text"
   ]
  },
  {
   "cell_type": "code",
   "execution_count": 50,
   "metadata": {},
   "outputs": [
    {
     "data": {
      "text/plain": [
       "'Hi welcome to programming course'"
      ]
     },
     "execution_count": 50,
     "metadata": {},
     "output_type": "execute_result"
    }
   ],
   "source": [
    "text = \"\"\"Hi welcome to programming course\"\"\"\n",
    "text"
   ]
  },
  {
   "cell_type": "code",
   "execution_count": 51,
   "metadata": {},
   "outputs": [
    {
     "data": {
      "text/plain": [
       "'Hi welcome to\\n programming course'"
      ]
     },
     "execution_count": 51,
     "metadata": {},
     "output_type": "execute_result"
    }
   ],
   "source": [
    "text = \"\"\"Hi welcome to\n",
    " programming course\"\"\"\n",
    "text"
   ]
  },
  {
   "cell_type": "code",
   "execution_count": 52,
   "metadata": {},
   "outputs": [
    {
     "data": {
      "text/plain": [
       "'Hi welcome to\\n          programming course'"
      ]
     },
     "execution_count": 52,
     "metadata": {},
     "output_type": "execute_result"
    }
   ],
   "source": [
    "text = \"\"\"Hi welcome to\n",
    "          programming course\"\"\"\n",
    "text"
   ]
  },
  {
   "cell_type": "code",
   "execution_count": 56,
   "metadata": {},
   "outputs": [
    {
     "data": {
      "text/plain": [
       "'Hi welcome to\\n programming\\n course     this will be amazing\\n course'"
      ]
     },
     "execution_count": 56,
     "metadata": {},
     "output_type": "execute_result"
    }
   ],
   "source": [
    "text = \"\"\"Hi welcome to\n",
    " programming\n",
    " course     this will be amazing\n",
    " course\"\"\"\n",
    "text"
   ]
  },
  {
   "cell_type": "code",
   "execution_count": 9,
   "metadata": {},
   "outputs": [
    {
     "data": {
      "text/plain": [
       "'this is my function and this function return\\n    query from database'"
      ]
     },
     "execution_count": 9,
     "metadata": {},
     "output_type": "execute_result"
    }
   ],
   "source": [
    "def my_func():\n",
    "    text = \"\"\"this is my function and this function return\n",
    "    query from database\"\"\"\n",
    "    return text\n",
    "my_func()"
   ]
  },
  {
   "cell_type": "code",
   "execution_count": 8,
   "metadata": {},
   "outputs": [
    {
     "data": {
      "text/plain": [
       "'this is my function and this function return\\nquery from database'"
      ]
     },
     "execution_count": 8,
     "metadata": {},
     "output_type": "execute_result"
    }
   ],
   "source": [
    "''' this seem to be break the rules but it's not because every character between delimiter wil be write on screen and function indentation is also\n",
    "be part of text! '''\n",
    "\n",
    "def my_func():\n",
    "    text = \"\"\"this is my function and this function return\n",
    "query from database\"\"\"\n",
    "    return text\n",
    "my_func()"
   ]
  },
  {
   "cell_type": "code",
   "execution_count": 4,
   "metadata": {},
   "outputs": [
    {
     "data": {
      "text/plain": [
       "'this is my function and this function return\\n                query from database'"
      ]
     },
     "execution_count": 4,
     "metadata": {},
     "output_type": "execute_result"
    }
   ],
   "source": [
    "def my_func():\n",
    "    text = \"\"\"this is my function and this function return\n",
    "                query from database\"\"\"\n",
    "    return text\n",
    "\n",
    "\n",
    "my_func()"
   ]
  }
 ],
 "metadata": {
  "kernelspec": {
   "display_name": "Python 3.10.7 64-bit",
   "language": "python",
   "name": "python3"
  },
  "language_info": {
   "codemirror_mode": {
    "name": "ipython",
    "version": 3
   },
   "file_extension": ".py",
   "mimetype": "text/x-python",
   "name": "python",
   "nbconvert_exporter": "python",
   "pygments_lexer": "ipython3",
   "version": "3.10.7"
  },
  "orig_nbformat": 4,
  "vscode": {
   "interpreter": {
    "hash": "8835d2714f7fccada31d0676d277834a0fe89208e08a3caeb577330e9d908e9b"
   }
  }
 },
 "nbformat": 4,
 "nbformat_minor": 2
}
