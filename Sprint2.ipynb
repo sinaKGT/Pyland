{
 "cells": [
  {
   "cell_type": "markdown",
   "metadata": {},
   "source": [
    "# Sprint 2: Variables & Memory"
   ]
  },
  {
   "cell_type": "markdown",
   "metadata": {},
   "source": [
    "## Table of Contents\n",
    "\n",
    "- What i learn in sprint two:\n",
    "    - Memory References\n",
    "    - What Variable Really are\n",
    "    - Memory Managment \n",
    "    - Refrence Counting\n",
    "    - Garbage Collection\n",
    "    - Dynamic vs Static Typing\n",
    "    - Mutability & Immutability\n",
    "    - Variable Equality"
   ]
  },
  {
   "cell_type": "markdown",
   "metadata": {},
   "source": [
    "## 1.Variables are Momory Refrences"
   ]
  },
  {
   "cell_type": "markdown",
   "metadata": {},
   "source": [
    "- 1.1 as i know everything in python is an object, and python using refrencing for everything in memory in the picture bellow i see how python interpreter will save one variable in memory.\n",
    "    - python didn't save its actual data to memory, it first create a object with our value and then assign that value memory address to that variable we can check that by using __id()__ function for fetch id of that object in memory and using __hex()__ function to convert that id number to hex format of it in memory.\n",
    "    - To prove that everything using refrencing in python we can assign two variable with same value."
   ]
  },
  {
   "cell_type": "markdown",
   "metadata": {},
   "source": [
    "### 1.2 How python save data in memory in one view\n",
    "![Python Memory Refrences](Images/Memory_Refrences.png)"
   ]
  },
  {
   "cell_type": "code",
   "execution_count": 6,
   "metadata": {},
   "outputs": [
    {
     "name": "stdout",
     "output_type": "stream",
     "text": [
      "Memory address of sina is 0x2114ed15070\n",
      "Memory address of ali is 0x2114ed15070\n",
      "True\n",
      "True\n"
     ]
    }
   ],
   "source": [
    "sina = 'sina'\n",
    "ali = \"sina\"\n",
    "print(f'Memory address of sina is {hex(id(sina))}')\n",
    "print(f'Memory address of ali is {hex(id(ali))}')\n",
    "print(ali is sina)\n",
    "print(ali == sina)\n",
    "# is operator is"
   ]
  },
  {
   "cell_type": "markdown",
   "metadata": {},
   "source": [
    "### 1.2 How python store data in memory\n",
    "![Python memory refrences](Images/Memory_Refrences_2.png)"
   ]
  },
  {
   "cell_type": "markdown",
   "metadata": {},
   "source": [
    "## 2.Refrence Counting"
   ]
  },
  {
   "cell_type": "markdown",
   "metadata": {},
   "source": [
    "- as we know everything in python has a object and object has refrence in memory, **refrence counting** is a process of tacking refrences to specific object\n",
    "    - I don't work with variable address and refrences directly in python but in this part i want to understand whats happened behiend the seen\n",
    "    - There are two ways of tracking refrence counting in python:\n",
    "        1. with using sys module: __sys.getrefcount__(**VARIABLE NAME**), the problem with this solution is that if we send our variable name to that function we pass the refrence to that so number of refrencses increase by one because of __getrefcount()__ function\n",
    "\n",
    "        2. using ctype module: __ctypes.c_long.from_address(**ADDRESSS**).value, with ctypes module we should pass the refrencse of object to function and the result is we get the correct value of refrence couting."
   ]
  },
  {
   "cell_type": "code",
   "execution_count": 24,
   "metadata": {},
   "outputs": [],
   "source": [
    "my_list = [1, 2, 3, 4, 5, 6]"
   ]
  },
  {
   "cell_type": "code",
   "execution_count": 25,
   "metadata": {},
   "outputs": [
    {
     "name": "stdout",
     "output_type": "stream",
     "text": [
      "ID of my_list: 2168343034752\n"
     ]
    },
    {
     "data": {
      "text/plain": [
       "2"
      ]
     },
     "execution_count": 25,
     "metadata": {},
     "output_type": "execute_result"
    }
   ],
   "source": [
    "from sys import getrefcount\n",
    "print(f'ID of my_list: {id(my_list)}')\n",
    "getrefcount(my_list)\n"
   ]
  },
  {
   "cell_type": "code",
   "execution_count": 26,
   "metadata": {},
   "outputs": [
    {
     "name": "stdout",
     "output_type": "stream",
     "text": [
      "ID of my_list: 2168343034752\n"
     ]
    },
    {
     "data": {
      "text/plain": [
       "3"
      ]
     },
     "execution_count": 26,
     "metadata": {},
     "output_type": "execute_result"
    }
   ],
   "source": [
    "my_socond_list = my_list\n",
    "print(f'ID of my_list: {id(my_socond_list)}')\n",
    "getrefcount(my_socond_list)"
   ]
  },
  {
   "cell_type": "code",
   "execution_count": 27,
   "metadata": {},
   "outputs": [
    {
     "name": "stdout",
     "output_type": "stream",
     "text": [
      "Refrence count of my_list is 2\n"
     ]
    }
   ],
   "source": [
    "from ctypes import c_long\n",
    "ref_count = c_long.from_address(id(my_list)).value\n",
    "print(f'Refrence count of my_list is {ref_count}')"
   ]
  },
  {
   "cell_type": "code",
   "execution_count": 36,
   "metadata": {},
   "outputs": [
    {
     "name": "stdout",
     "output_type": "stream",
     "text": [
      "Refrence count of my_list is 2\n"
     ]
    }
   ],
   "source": [
    "ref_count = c_long.from_address(id(my_socond_list)).value\n",
    "print(f'Refrence count of my_list is {ref_count}')"
   ]
  },
  {
   "cell_type": "code",
   "execution_count": 67,
   "metadata": {},
   "outputs": [
    {
     "name": "stdout",
     "output_type": "stream",
     "text": [
      "Refrence count of my_list is 43077\n"
     ]
    }
   ],
   "source": [
    "my_socond_list = None\n",
    "ref_count = c_long.from_address(id(my_socond_list)).value\n",
    "print(f'Refrence count of my_list is {ref_count}')"
   ]
  },
  {
   "cell_type": "code",
   "execution_count": 69,
   "metadata": {},
   "outputs": [
    {
     "name": "stdout",
     "output_type": "stream",
     "text": [
      "Refrence count of my_list is 1\n"
     ]
    }
   ],
   "source": [
    "ref_count = c_long.from_address(id(my_list)).value\n",
    "print(f'Refrence count of my_list is {ref_count}')"
   ]
  },
  {
   "cell_type": "code",
   "execution_count": 70,
   "metadata": {},
   "outputs": [
    {
     "name": "stdout",
     "output_type": "stream",
     "text": [
      "Refrence count of my_list is 42946\n"
     ]
    }
   ],
   "source": [
    "original_id_of_my_list = id(my_list)\n",
    "my_list = None\n",
    "ref_count = c_long.from_address(id(my_list)).value\n",
    "print(f'Refrence count of my_list is {ref_count}')"
   ]
  },
  {
   "cell_type": "code",
   "execution_count": 76,
   "metadata": {},
   "outputs": [
    {
     "name": "stdout",
     "output_type": "stream",
     "text": [
      "0\n"
     ]
    }
   ],
   "source": [
    "ref_count = c_long.from_address(original_id_of_my_list).value\n",
    "print(ref_count)"
   ]
  },
  {
   "cell_type": "markdown",
   "metadata": {},
   "source": [
    "## 3.Garbage Collector"
   ]
  },
  {
   "cell_type": "markdown",
   "metadata": {},
   "source": [
    "- i talk refrence counting and what happend to variable after refrence couting become zero(the python memory manager will drop that object and realease the memory address)\n",
    "    - but that's not always work, sometimes we have variable which point to object A and object A refrence to object B, if variable a refrence set to none python memory manager drop the Variable A and B but when B also refrence to the A we have something called  **Circular Refrence**.\n",
    "    - wen circular refrnce happed python called the garbage collector, by default garbage collector if turnd on in python but we can turnd it off if we have some speacial needs by calling **gc** module."
   ]
  },
  {
   "cell_type": "markdown",
   "metadata": {},
   "source": [
    "### 3.1 What is Circular Refrence\n",
    "![Circular Refrence](Images/Circular_Refrence.png)"
   ]
  },
  {
   "cell_type": "markdown",
   "metadata": {},
   "source": [
    "## 4.Static Type and Dynamic Typing"
   ]
  },
  {
   "cell_type": "markdown",
   "metadata": {},
   "source": [
    "- many languages like java, C, C++ are **static** type which means, the type of variable is attach to them and can not be chanage over time, but languages like python is **dynamicly** type which means type of variable is not attach to the variable name, that because everything in python work by refrences."
   ]
  },
  {
   "cell_type": "markdown",
   "metadata": {},
   "source": [
    "### 3.1 What is Circular Refrence\n",
    "![Circular Refrence](Images/Dynamic_Typing.png)"
   ]
  },
  {
   "cell_type": "markdown",
   "metadata": {},
   "source": [
    "## 5.Variable Re-Assignment"
   ]
  },
  {
   "cell_type": "markdown",
   "metadata": {},
   "source": [
    "- As we say before everything in python works by refrence, and it is interesting to know that when we add some number with variable, the variable didn't change and new variable created.\n",
    "    - in fact, the value inside the **int** object can never be change."
   ]
  },
  {
   "cell_type": "code",
   "execution_count": 28,
   "metadata": {},
   "outputs": [
    {
     "name": "stdout",
     "output_type": "stream",
     "text": [
      "0x7ffc1ef4d448\n"
     ]
    }
   ],
   "source": [
    "my_var = 10\n",
    "print(hex(id(my_var)))"
   ]
  },
  {
   "cell_type": "code",
   "execution_count": 29,
   "metadata": {},
   "outputs": [
    {
     "name": "stdout",
     "output_type": "stream",
     "text": [
      "0x7ffc1ef4d588\n"
     ]
    }
   ],
   "source": [
    "my_var += 10\n",
    "print(hex(id(my_var)))"
   ]
  },
  {
   "cell_type": "markdown",
   "metadata": {},
   "source": [
    "## 6.Object Mutabilty and Immutabiliy"
   ]
  },
  {
   "cell_type": "markdown",
   "metadata": {},
   "source": [
    "- changing the data inside the object called changing the internal state of object.\n",
    "    - which in this case memory address will not change and internal state of memory will change.\n",
    "    - An object whose internal state **can** be changed, is called **Mutable**\n",
    "    - An object whose internal state **cannot** be changed, is called  **Immutable**"
   ]
  },
  {
   "cell_type": "markdown",
   "metadata": {},
   "source": [
    "### 3.3.1.Immutable\n",
    "- list of Immutalbe objects in python:\n",
    "    - Numbers (int, float, Booleans, etc...)\n",
    "    - Strings\n",
    "    - Tuples\n",
    "    - Frozen Set\n",
    "    - User-Defiend Classes"
   ]
  },
  {
   "cell_type": "markdown",
   "metadata": {},
   "source": [
    "### 3.3.2.Mutable\n",
    "- list of mutalbe objects in python:\n",
    "    - Lists\n",
    "    - Sets\n",
    "    - Dictionaries\n",
    "    - User-Defiend Classes"
   ]
  },
  {
   "cell_type": "code",
   "execution_count": 32,
   "metadata": {},
   "outputs": [
    {
     "name": "stdout",
     "output_type": "stream",
     "text": [
      "----------------\n",
      "Number\n",
      "0x7ffc1ef4d588\n",
      "0x7ffc1ef4d6c8\n",
      "----------------\n",
      "----------------\n",
      "Strings\n",
      "0x1f8db05d6f0\n",
      "0x1f8db05fc70\n",
      "----------------\n",
      "----------------\n",
      "Strings (interning)\n",
      "0x1f8db05f1b0\n",
      "0x1f8db05f1b0\n",
      "----------------\n",
      "----------------\n",
      "Tuples\n",
      "0x1f8db4b3780\n",
      "0x1f8db4b29c0\n",
      "----------------\n"
     ]
    }
   ],
   "source": [
    "print(\"----------------\")\n",
    "# Numbers\n",
    "number = 20\n",
    "print(\"Number\")\n",
    "print(hex(id(number)))\n",
    "number += 10\n",
    "print(hex(id(number)))\n",
    "print(\"----------------\")\n",
    "\n",
    "print(\"----------------\")\n",
    "# Strings\n",
    "print(\"Strings\")\n",
    "my_name = \"sina\"\n",
    "print(hex(id(my_name)))\n",
    "my_name = \"maryam\"\n",
    "print(hex(id(my_name)))\n",
    "print(\"----------------\")\n",
    "\n",
    "print(\"----------------\")\n",
    "# Strings which look like identifire will be internig and have same refrence\n",
    "print(\"Strings (interning)\")\n",
    "my_name = \"my_func\"\n",
    "print(hex(id(my_name)))\n",
    "my_name2 = \"my_func\"\n",
    "print(hex(id(my_name2)))\n",
    "print(\"----------------\")\n",
    "\n",
    "print(\"----------------\")\n",
    "# Tuples\n",
    "print(\"Tuples\")\n",
    "a = (10, 20)\n",
    "print(hex(id(a)))\n",
    "a = (20, 10)\n",
    "print(hex(id(a)))\n",
    "print(\"----------------\")"
   ]
  },
  {
   "cell_type": "markdown",
   "metadata": {},
   "source": [
    "## 7.Variable Equality"
   ]
  },
  {
   "cell_type": "markdown",
   "metadata": {},
   "source": [
    "- we can compare two variable in two fundemental ways: \n",
    "    - 1.compare **memory address** of two variable\n",
    "    - 2.compare **object sate** or value of that object\n",
    "- as i know, two object based on mutabiliy or immutabily may have diffrent memory address with same value like lists\n",
    "    - for compare memory address of two variable we use **Identity operator** -> is, and for **internal state of object we use **quality Operator** -> ==\n"
   ]
  },
  {
   "cell_type": "code",
   "execution_count": 34,
   "metadata": {},
   "outputs": [
    {
     "name": "stdout",
     "output_type": "stream",
     "text": [
      "True\n",
      "True\n",
      "True\n",
      "False\n"
     ]
    }
   ],
   "source": [
    "var_1 = 31\n",
    "var_2 = 31\n",
    "print(var_1 == var_2)\n",
    "print(var_1 is var_2)\n",
    "#--------------------------\n",
    "# in python numbers after 256 will not intern so they have diffrent memory address and is operator will not work with them\n",
    "var_1 = 310\n",
    "var_2 = 310\n",
    "print(var_1 == var_2)\n",
    "print(var_1 is var_2)"
   ]
  },
  {
   "cell_type": "code",
   "execution_count": 38,
   "metadata": {},
   "outputs": [
    {
     "name": "stdout",
     "output_type": "stream",
     "text": [
      "True\n",
      "True\n"
     ]
    }
   ],
   "source": [
    "str_1 = 'hi'\n",
    "str_2 = 'hi'\n",
    "print(str_1 == str_2)\n",
    "print(str_1 is str_2)"
   ]
  },
  {
   "cell_type": "code",
   "execution_count": 101,
   "metadata": {},
   "outputs": [
    {
     "name": "stdout",
     "output_type": "stream",
     "text": [
      "True\n",
      "False\n"
     ]
    }
   ],
   "source": [
    "list_1 = [1, 2, 3]\n",
    "list_2 = [1, 2, 3]\n",
    "print(list_1 == list_2)\n",
    "print(list_1 is list_2)"
   ]
  },
  {
   "cell_type": "markdown",
   "metadata": {},
   "source": [
    "### 7.2 None Object"
   ]
  },
  {
   "cell_type": "markdown",
   "metadata": {},
   "source": [
    "- The **None** object can be assigned to a variable to indicate that they are not set(null pointer)\n",
    "    - None object is a real object that is managed by the Python memory manager\n",
    "    - The python memory manager will always use a **shared refrence** when assigning a variable to None"
   ]
  },
  {
   "cell_type": "markdown",
   "metadata": {},
   "source": [
    "## 8.Python Interning"
   ]
  },
  {
   "cell_type": "markdown",
   "metadata": {},
   "source": [
    "- What is Interning? reusing objects on-demand called python internnig\n",
    "    - at startup, Python(CPython), pre-loads(caches) a global list of integers in the range of -5 to 256.\n",
    "    - any time an integer is refrenced in that range, python will use the cached version of that object\n",
    "    - Singletons: Optimization Strategy-small integers show up often.\n",
    "    - Some Strings are also automatically **interned** but not all.\n",
    "        - As the python code compiled, **identifires** are interned.\n",
    "            - variable names\n",
    "            - function names\n",
    "            - class names\n",
    "            - identifieres must start with _ or letter and can only contain _, letters and numbers\n",
    "            - String literals that look like identifiers('hello_world') althrough if start with a digit, even though taht is not a valid identifier it may still get interned\n",
    "        - it's all about(speed, possibility and memory) optimization, if we want to compare two long string, like this_is_my_variable_name and use == operator for equality compare python should compare character by character of it's name and then see the value which them assign to, this process have much load in python, but if we know this variable are interned we can just use is operator to check memory address of two varibale, and in time of O(n) we can get the resutl.\n",
    "        - not all the strings in python will automatically interned, but we can force strings to be interned by using __sys.intern()__ method"
   ]
  },
  {
   "cell_type": "code",
   "execution_count": 5,
   "metadata": {},
   "outputs": [
    {
     "data": {
      "text/plain": [
       "True"
      ]
     },
     "execution_count": 5,
     "metadata": {},
     "output_type": "execute_result"
    }
   ],
   "source": [
    "import sys\n",
    "\n",
    "text_1 = sys.intern('this is my large string which i want to compare to another string')\n",
    "text_2 = sys.intern('this is my large string which i want to compare to another string')\n",
    "\n",
    "text_1 is text_2\n",
    "# Why we should do this? when we dealing with large number of Strings that could have hight repetition, tokenizing a large corpus of text(NLP Program)"
   ]
  },
  {
   "cell_type": "code",
   "execution_count": 2,
   "metadata": {},
   "outputs": [],
   "source": [
    "def compare_using_equality(number_of_compare):\n",
    "    str_1 = 'this is my long string which i want to compare with another str' * 300\n",
    "    str_2 = 'this is my long string which i want to compare with another str' * 300\n",
    "    for i in range(number_of_compare):\n",
    "        if str_1 == str_2:\n",
    "            pass"
   ]
  },
  {
   "cell_type": "code",
   "execution_count": 3,
   "metadata": {},
   "outputs": [],
   "source": [
    "def comapre_using_interning(number_of_compare):\n",
    "    import sys\n",
    "    str_1 = sys.intern(\"this is my long string which i want to compare with another str\" * 300)\n",
    "    str_2 = sys.intern(\"this is my long string which i want to compare with another str\" * 300)\n",
    "    for i in range(number_of_compare):\n",
    "        if str_1 is str_2:\n",
    "            pass"
   ]
  },
  {
   "cell_type": "code",
   "execution_count": 4,
   "metadata": {},
   "outputs": [],
   "source": [
    "import time"
   ]
  },
  {
   "cell_type": "code",
   "execution_count": 5,
   "metadata": {},
   "outputs": [
    {
     "name": "stdout",
     "output_type": "stream",
     "text": [
      "Time need to compare with equliaty is: 58.31125240000006\n"
     ]
    }
   ],
   "source": [
    "start_time = time.perf_counter()\n",
    "compare_using_equality(100000000)\n",
    "end_time = time.perf_counter()\n",
    "print(f\"Time need to compare with equliaty is: {end_time - start_time}\")"
   ]
  },
  {
   "cell_type": "code",
   "execution_count": 6,
   "metadata": {},
   "outputs": [
    {
     "name": "stdout",
     "output_type": "stream",
     "text": [
      "Time need to compare with equliaty is: 2.120622400000002\n"
     ]
    }
   ],
   "source": [
    "start_time = time.perf_counter()\n",
    "comapre_using_interning(100000000)\n",
    "end_time = time.perf_counter()\n",
    "print(f\"Time need to compare with equliaty is: {end_time - start_time}\")"
   ]
  },
  {
   "cell_type": "markdown",
   "metadata": {},
   "source": [
    "import sys\n"
   ]
  },
  {
   "cell_type": "code",
   "execution_count": 103,
   "metadata": {},
   "outputs": [
    {
     "name": "stdout",
     "output_type": "stream",
     "text": [
      "0x7ffa6f8cd448\n"
     ]
    }
   ],
   "source": [
    "a = 10\n",
    "# in this case python will not create a 10 objet in memory and assign that value to a variable\n",
    "print(hex(id(a)))"
   ]
  },
  {
   "cell_type": "code",
   "execution_count": 104,
   "metadata": {},
   "outputs": [
    {
     "name": "stdout",
     "output_type": "stream",
     "text": [
      "0x7ffa6f8cd448\n"
     ]
    }
   ],
   "source": [
    "b = 10\n",
    "print(hex(id(b)))"
   ]
  },
  {
   "cell_type": "code",
   "execution_count": 107,
   "metadata": {},
   "outputs": [
    {
     "name": "stdout",
     "output_type": "stream",
     "text": [
      "0x215bc07c690\n",
      "0x7ffa6f8cf308\n"
     ]
    }
   ],
   "source": [
    "c = 259\n",
    "print(hex(id(c)))\n",
    "d = 256\n",
    "print(hex(id(d)))\n",
    "# as we see value of both c and d are same but python assign that to new object for each of them"
   ]
  },
  {
   "cell_type": "markdown",
   "metadata": {},
   "source": [
    "### 3.3.2 Practice\n",
    "- write a program to give n age and return maximum age and second largest age, without list and max function, program will end giving input when user enter negative number"
   ]
  },
  {
   "cell_type": "code",
   "execution_count": 113,
   "metadata": {},
   "outputs": [
    {
     "name": "stdout",
     "output_type": "stream",
     "text": [
      "-------------------------------\n",
      "second_max_age: -100\n",
      "max_age: 12\n",
      "-------------------------------\n",
      "-------------------------------\n",
      "second_max_age: 12\n",
      "max_age: 16\n",
      "-------------------------------\n",
      "Maximum Age is: 16\n",
      "Second max age is: 12\n"
     ]
    }
   ],
   "source": [
    "max_age = second_max_age = -100\n",
    "\n",
    "while True:\n",
    "    age = int(input(\"Please enter a age: \"))\n",
    "    \n",
    "    if age <= 0:\n",
    "        break\n",
    "\n",
    "    elif age > max_age:\n",
    "        second_max_age = max_age\n",
    "        max_age = age\n",
    "\n",
    "  \n",
    "print(f\"Maximum Age is: {max_age}\")\n",
    "print(f\"Second max age is: {second_max_age}\")"
   ]
  },
  {
   "cell_type": "code",
   "execution_count": 102,
   "metadata": {},
   "outputs": [
    {
     "name": "stdout",
     "output_type": "stream",
     "text": [
      "First Maximum age is 10\n",
      "Second Maximum age is 10\n"
     ]
    }
   ],
   "source": [
    "age_list = []\n",
    "max_age = -10000\n",
    "while True:\n",
    "    age = int(input(\"Please enter your age: \"))\n",
    "    if age < 0:\n",
    "        break\n",
    "    if age > max_age:\n",
    "        max_age = age\n",
    "        \n",
    "    age_list.append(age)\n",
    "\n",
    "first_max_age = max(age_list)\n",
    "age_list.remove(first_max_age)\n",
    "second_max_age = max(age_list)\n",
    "\n",
    "print(f\"First Maximum age is {first_max_age}\")\n",
    "print(f\"Second Maximum age is {second_max_age}\")"
   ]
  }
 ],
 "metadata": {
  "kernelspec": {
   "display_name": "Python 3.11.0 64-bit",
   "language": "python",
   "name": "python3"
  },
  "language_info": {
   "codemirror_mode": {
    "name": "ipython",
    "version": 3
   },
   "file_extension": ".py",
   "mimetype": "text/x-python",
   "name": "python",
   "nbconvert_exporter": "python",
   "pygments_lexer": "ipython3",
   "version": "3.11.0"
  },
  "orig_nbformat": 4,
  "vscode": {
   "interpreter": {
    "hash": "bd161129b6af5c47aa9649c3f10708f92b027739db98459ba2a687a45468a932"
   }
  }
 },
 "nbformat": 4,
 "nbformat_minor": 2
}
